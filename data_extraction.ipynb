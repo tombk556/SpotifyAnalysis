{
 "cells": [
  {
   "cell_type": "code",
   "execution_count": 1,
   "metadata": {},
   "outputs": [],
   "source": [
    "from src.config import settings\n",
    "from src.spotify_api import PlaylistData\n",
    "\n",
    "import pandas as pd\n",
    "import os"
   ]
  },
  {
   "cell_type": "code",
   "execution_count": 2,
   "metadata": {},
   "outputs": [],
   "source": [
    "if not os.path.exists(\"data\"):\n",
    "    os.makedirs(\"data\")\n",
    "    os.makedirs(\"data/top_hits\")\n",
    "    "
   ]
  },
  {
   "cell_type": "code",
   "execution_count": 3,
   "metadata": {},
   "outputs": [],
   "source": [
    "CLIENT_ID = settings.client_id\n",
    "CLIENT_SECRET = settings.client_secret"
   ]
  },
  {
   "cell_type": "markdown",
   "metadata": {},
   "source": [
    "### Extract the data"
   ]
  },
  {
   "cell_type": "code",
   "execution_count": 4,
   "metadata": {},
   "outputs": [],
   "source": [
    "data = {\n",
    "        # 50er\n",
    "        \"Top 1950\": \"https://open.spotify.com/playlist/0xiZNqxGswEi8zSGnI7rmN\",\n",
    "        \"Top 1951\": \"https://open.spotify.com/playlist/4hE36wh5dHJlaYzooFRHEf\",\n",
    "        \"Top 1952\": \"https://open.spotify.com/playlist/2TZLWFgOVdcGOR1qZaKK2O\",\n",
    "        \"Top 1953\": \"https://open.spotify.com/playlist/2e35CqabRnW8DIbJJSHu70\",\n",
    "        \"Top 1954\": \"https://open.spotify.com/playlist/0qgeT8jBBNdp31z2wJOpBy\",\n",
    "        \"Top 1955\": \"https://open.spotify.com/playlist/4lnzDhZn07QhS4982JMXU9?si=f47a9974be8e479a\",\n",
    "        \"Top 1956\": \"https://open.spotify.com/playlist/4JHZOXb7dqsFhEmkUAphBM?si=24c9649649b64356\",\n",
    "        \"Top 1957\": \"https://open.spotify.com/playlist/5xQSTfU9BFLldMC4gyfd5j\",\n",
    "        \"Top 1958\": \"https://open.spotify.com/playlist/3yn3s51ml6aQJal4XXqXZ7\",\n",
    "        \"Top 1959\": \"https://open.spotify.com/playlist/5syjR9mVX4pPl2SDu2kueU\",\n",
    "        \n",
    "        # 60er\n",
    "        \"Top 1960\": \"https://open.spotify.com/playlist/1v4xUqFZGUN1Umk9VSX9Bf\",\n",
    "        \"Top 1961\": \"https://open.spotify.com/playlist/6FuBjRDTT6eOMNl3z4yIZR\",\n",
    "        \"Top 1962\": \"https://open.spotify.com/playlist/6io36wXucOEVJwX5tfhOKp\",\n",
    "        \"Top 1963\": \"https://open.spotify.com/playlist/0saSUlGOUH6qtNb6cmVr4b\",\n",
    "        \"Top 1964\": \"https://open.spotify.com/playlist/7yYffn7QimcWORGUbhVA2T\",\n",
    "        \"Top 1965\": \"https://open.spotify.com/playlist/4jpDISd1q31556e99BKkUt\",\n",
    "        \"Top 1966\": \"https://open.spotify.com/playlist/4YnmXGrjBtf746tf9I1N4I\",\n",
    "        \"Top 1968\": \"https://open.spotify.com/playlist/6dTdfSCO0MUbiZMLkJc19J\",\n",
    "        \"Top 1969\": \"https://open.spotify.com/playlist/3fMv3KedEHOEG60iPQnOKI\",\n",
    "        \n",
    "        # 70er\n",
    "        \"Top 1970\": \"https://open.spotify.com/playlist/7mIjFQ4tDYNGkHPesPtSiI\",\n",
    "        \"Top 1971\": \"https://open.spotify.com/playlist/37i9dQZF1DX43B4ApmA3Ee\",\n",
    "        \"Top 1972\": \"https://open.spotify.com/playlist/37i9dQZF1DXaQBa5hAMckp\",\n",
    "        \"Top 1973\": \"https://open.spotify.com/playlist/37i9dQZF1DX2ExTChOnD3g\",\n",
    "        \"Top 1974\": \"https://open.spotify.com/playlist/7eIHjBH3JDaGT7ftpSRjTo\",\n",
    "        \"Top 1975\": \"https://open.spotify.com/playlist/1L2nERFkW6YyHAv7ZHNDP5\",\n",
    "        \"Top 1976\": \"https://open.spotify.com/playlist/37i9dQZF1DX6rhG68uMHxl\",\n",
    "        \"Top 1977\": \"https://open.spotify.com/playlist/6FefIa6qzewOBaJAN99A3d\",\n",
    "        \"Top 1978\": \"https://open.spotify.com/playlist/2yQEhrAyz1HDUmJws0MrjN\",\n",
    "        \"Top 1979\": \"https://open.spotify.com/playlist/6nQlRTa1oBWCO4EBPgJcVG\",\n",
    "        \n",
    "        # 80er\n",
    "        \"Top 1980\": \"https://open.spotify.com/playlist/1MeQOQfoMAEjlVIdzscCWa\",\n",
    "        \"Top 1981\": \"https://open.spotify.com/playlist/37i9dQZF1DX3MaR62kDrX7\",\n",
    "        \"Top 1982\": \"https://open.spotify.com/playlist/37i9dQZF1DXas7qFgKz9OV\",\n",
    "        \"Top 1983\": \"https://open.spotify.com/playlist/1td8QS2HXwc26z8FJT6SgG\",\n",
    "        \"Top 1984\": \"https://open.spotify.com/playlist/7LC0Yqc2tuXCEU1dpvSkep\",\n",
    "        \"Top 1985\": \"https://open.spotify.com/playlist/5rvJGmGKc8V0S3MtoDSWL1\",\n",
    "        \"Top 1986\": \"https://open.spotify.com/playlist/37i9dQZF1DX7b12kdMQTpG\",\n",
    "        \"Top 1987\": \"https://open.spotify.com/playlist/4MCjUv5nqemQ3liCDp25vU\",\n",
    "        \"Top 1988\": \"https://open.spotify.com/playlist/4nCjtI7qohxmx9AOY5oCl1\",\n",
    "        \"Top 1989\": \"https://open.spotify.com/playlist/37i9dQZF1DX4qJrOCfJytN\",\n",
    "        \n",
    "        # 90er\n",
    "        \"Top 1990\": \"https://open.spotify.com/playlist/46cTg4rfrfZZBPVsEkWspY\",\n",
    "        \"Top 1991\": \"https://open.spotify.com/playlist/37i9dQZF1DX6TtJfRD994c\",\n",
    "        \"Top 1992\": \"https://open.spotify.com/playlist/37i9dQZF1DX9ZZCtVNwklG\",\n",
    "        \"Top 1993\": \"https://open.spotify.com/playlist/37i9dQZF1DXbUFx5bcjwWK\",\n",
    "        \"Top 1994\": \"https://open.spotify.com/playlist/37i9dQZF1DXbKFudfYGcmj\",\n",
    "        \"Top 1995\": \"https://open.spotify.com/playlist/0uQXBpxUMDUFhUMXMJgKj6\",\n",
    "        \"Top 1996\": \"https://open.spotify.com/playlist/1utJTWgReGyg4MzHiwiVvx?si=9f54cb6015b14335\",\n",
    "        \"Top 1997\": \"https://open.spotify.com/playlist/6QA4ytudZHpZFIGhdDABnQ?si=7fae62663aef4490\",\n",
    "        \"Top 1998\": \"https://open.spotify.com/playlist/2gUE6oX6RH60jaWbxHsGwQ\",\n",
    "        \"Top 1999\": \"https://open.spotify.com/playlist/6pSgNZLzRjouo74qlyovn0\",\n",
    "        \n",
    "        # 2000er\n",
    "        \"Top 2000\": \"https://open.spotify.com/playlist/37i9dQZF1DXbdJsJCLgPgj?si=41737e3440da446a\",\n",
    "        \"Top 2001\": \"https://open.spotify.com/playlist/37i9dQZF1DWZmtrk33btOM?si=748da5ce26734e17\",\n",
    "        \"Top 2002\": \"https://open.spotify.com/playlist/37i9dQZF1DX6pidNhUl3IN?si=a5b523742dc14ef1\",\n",
    "        \"Top 2003\": \"https://open.spotify.com/playlist/37i9dQZF1DXaW8fzPh9b08?si=8febe122413344e9\",\n",
    "        \"Top 2004\": \"https://open.spotify.com/playlist/37i9dQZF1DWTWdbR13PQYH?si=036756c748264fa7\",\n",
    "        \"Top 2005\": \"https://open.spotify.com/playlist/37i9dQZF1DXarC0Cy7VsAl?si=07812efba2764db0\",\n",
    "        \"Top 2006\": \"https://open.spotify.com/playlist/37i9dQZF1DX5c42vvWQbfU?si=3c2b2e9fed9e429d\",\n",
    "        \"Top 2007\": \"https://open.spotify.com/playlist/37i9dQZF1DXczJmqUuGWmO?si=5f4a6e05d8824f26\",\n",
    "        \"Top 2008\": \"https://open.spotify.com/playlist/37i9dQZF1DX5uCG9BwFjow?si=49c0834b422d4bb8\",\n",
    "        \"Top 2009\": \"https://open.spotify.com/playlist/3ahy0ZpO7pe2Fj3mQWWawY\",\n",
    "        \n",
    "        # 2010er\n",
    "        \"Top 2010\": \"https://open.spotify.com/playlist/37i9dQZF1DWVN7yvDyMXUI?si=eb38f0a2d59048b0\",\n",
    "        \"Top 2011\": \"https://open.spotify.com/playlist/37i9dQZF1DX1Z27nCI3DU6?si=5da860592b97456e\",\n",
    "        \"Top 2012\": \"https://open.spotify.com/playlist/37i9dQZF1DX1lLhvjOZ9Eb?si=8c0f117fea0e4ac5\",\n",
    "        \"Top 2013\": \"https://open.spotify.com/playlist/37i9dQZF1DX8cr9zdmLTqV?si=6d9fbf4bbcee45c9\",\n",
    "        \"Top 2014\": \"https://open.spotify.com/playlist/37i9dQZF1DWUuUULr6s2Iv?si=b79e6b14251a485b\",\n",
    "        \"Top 2015\": \"https://open.spotify.com/playlist/37i9dQZF1DX86diBZjYU2q?si=25fd14830ac349f2\",\n",
    "        \"Top 2016\": \"https://open.spotify.com/playlist/37i9dQZF1DWYrFu9Z9AClE?si=063f2f118ddf48b8\",\n",
    "        \"Top 2017\": \"https://open.spotify.com/playlist/37i9dQZF1DX310u4B4JgpY?si=46b0550ea8d742b9\",\n",
    "        \"Top 2018\": \"https://open.spotify.com/playlist/37i9dQZF1DWYiJqIRRqjB2?si=b794aa1268b54e46\",\n",
    "        \"Top 2019\": \"https://open.spotify.com/playlist/37i9dQZF1DWVRSukIED0e9?si=550e77f78deb4b14\",\n",
    "        \n",
    "        # 2020er\n",
    "        \"Top 2020\": \"https://open.spotify.com/playlist/2fmTTbBkXi8pewbUvG3CeZ?si=a895d6d421f9443c\",\n",
    "        \"Top 2021\": \"https://open.spotify.com/playlist/37i9dQZF1DWTqOsMG7SsUt?si=5185ae06d2d64fcf\",\n",
    "        \"Top 2022\": \"https://open.spotify.com/playlist/56r5qRUv3jSxADdmBkhcz7?si=3076e9b6a2dd4a95\",\n",
    "        \"Top 2023\": \"https://open.spotify.com/playlist/37i9dQZF1DX4HROODZmf5u?si=5e60af3088ab49f3\"}"
   ]
  },
  {
   "cell_type": "code",
   "execution_count": 5,
   "metadata": {},
   "outputs": [],
   "source": [
    "for playlist_name in data:\n",
    "    playlist_url = data[playlist_name]\n",
    "    \n",
    "    df = PlaylistData(CLIENT_ID, CLIENT_SECRET, playlist_url).extract_track_metadata()\n",
    "    df.to_csv(f\"data/top_hits/{playlist_name}.csv\", index=False)"
   ]
  },
  {
   "cell_type": "markdown",
   "metadata": {},
   "source": [
    "### Combine the data"
   ]
  },
  {
   "cell_type": "code",
   "execution_count": 6,
   "metadata": {},
   "outputs": [],
   "source": [
    "dataframes = []\n",
    "\n",
    "for playlist_name in data:\n",
    "    df = pd.read_csv(f\"data/top_hits/{playlist_name}.csv\")\n",
    "    df[\"year\"] = playlist_name.split()[-1]\n",
    "    \n",
    "    dataframes.append(df)\n",
    "\n",
    "data = pd.concat(dataframes)\n",
    "data[\"duration\"] = data[\"duration\"] / 60000\n",
    "data.to_csv(\"data/top_hits.csv\", index=False)"
   ]
  }
 ],
 "metadata": {
  "kernelspec": {
   "display_name": "Python 3",
   "language": "python",
   "name": "python3"
  },
  "language_info": {
   "codemirror_mode": {
    "name": "ipython",
    "version": 3
   },
   "file_extension": ".py",
   "mimetype": "text/x-python",
   "name": "python",
   "nbconvert_exporter": "python",
   "pygments_lexer": "ipython3",
   "version": "3.9.12"
  }
 },
 "nbformat": 4,
 "nbformat_minor": 2
}
